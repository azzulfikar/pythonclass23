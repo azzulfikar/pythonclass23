{
 "cells": [
  {
   "cell_type": "code",
   "execution_count": 1,
   "id": "c3759504-36db-4230-990c-c019a104acde",
   "metadata": {
    "tags": []
   },
   "outputs": [
    {
     "data": {
      "text/html": [
       "<div>\n",
       "<style scoped>\n",
       "    .dataframe tbody tr th:only-of-type {\n",
       "        vertical-align: middle;\n",
       "    }\n",
       "\n",
       "    .dataframe tbody tr th {\n",
       "        vertical-align: top;\n",
       "    }\n",
       "\n",
       "    .dataframe thead th {\n",
       "        text-align: right;\n",
       "    }\n",
       "</style>\n",
       "<table border=\"1\" class=\"dataframe\">\n",
       "  <thead>\n",
       "    <tr style=\"text-align: right;\">\n",
       "      <th></th>\n",
       "      <th>S002VS</th>\n",
       "      <th>COUNTRY_ALPHA</th>\n",
       "      <th>X001</th>\n",
       "      <th>X003</th>\n",
       "      <th>X007</th>\n",
       "      <th>X025</th>\n",
       "      <th>X025R</th>\n",
       "      <th>X026</th>\n",
       "      <th>X028</th>\n",
       "      <th>X045</th>\n",
       "      <th>X047_WVS</th>\n",
       "      <th>Y010</th>\n",
       "      <th>Y020</th>\n",
       "    </tr>\n",
       "  </thead>\n",
       "  <tbody>\n",
       "    <tr>\n",
       "      <th>388271</th>\n",
       "      <td>5</td>\n",
       "      <td>TUR</td>\n",
       "      <td>1</td>\n",
       "      <td>37</td>\n",
       "      <td>1</td>\n",
       "      <td>2</td>\n",
       "      <td>1</td>\n",
       "      <td>0</td>\n",
       "      <td>3</td>\n",
       "      <td>3</td>\n",
       "      <td>2</td>\n",
       "      <td>0.115889</td>\n",
       "      <td>0.542778</td>\n",
       "    </tr>\n",
       "    <tr>\n",
       "      <th>388272</th>\n",
       "      <td>5</td>\n",
       "      <td>TUR</td>\n",
       "      <td>2</td>\n",
       "      <td>22</td>\n",
       "      <td>6</td>\n",
       "      <td>6</td>\n",
       "      <td>2</td>\n",
       "      <td>1</td>\n",
       "      <td>6</td>\n",
       "      <td>3</td>\n",
       "      <td>2</td>\n",
       "      <td>0.581667</td>\n",
       "      <td>0.323519</td>\n",
       "    </tr>\n",
       "    <tr>\n",
       "      <th>388273</th>\n",
       "      <td>5</td>\n",
       "      <td>TUR</td>\n",
       "      <td>2</td>\n",
       "      <td>34</td>\n",
       "      <td>1</td>\n",
       "      <td>1</td>\n",
       "      <td>1</td>\n",
       "      <td>1</td>\n",
       "      <td>5</td>\n",
       "      <td>3</td>\n",
       "      <td>1</td>\n",
       "      <td>0.151667</td>\n",
       "      <td>0.395000</td>\n",
       "    </tr>\n",
       "    <tr>\n",
       "      <th>388274</th>\n",
       "      <td>5</td>\n",
       "      <td>TUR</td>\n",
       "      <td>1</td>\n",
       "      <td>27</td>\n",
       "      <td>6</td>\n",
       "      <td>8</td>\n",
       "      <td>3</td>\n",
       "      <td>1</td>\n",
       "      <td>1</td>\n",
       "      <td>2</td>\n",
       "      <td>4</td>\n",
       "      <td>0.595833</td>\n",
       "      <td>0.372685</td>\n",
       "    </tr>\n",
       "    <tr>\n",
       "      <th>388275</th>\n",
       "      <td>5</td>\n",
       "      <td>TUR</td>\n",
       "      <td>2</td>\n",
       "      <td>42</td>\n",
       "      <td>1</td>\n",
       "      <td>6</td>\n",
       "      <td>2</td>\n",
       "      <td>0</td>\n",
       "      <td>5</td>\n",
       "      <td>2</td>\n",
       "      <td>4</td>\n",
       "      <td>0.650833</td>\n",
       "      <td>0.489352</td>\n",
       "    </tr>\n",
       "  </tbody>\n",
       "</table>\n",
       "</div>"
      ],
      "text/plain": [
       "        S002VS COUNTRY_ALPHA  X001  X003  X007  X025  X025R  X026  X028  X045  \\\n",
       "388271       5           TUR     1    37     1     2      1     0     3     3   \n",
       "388272       5           TUR     2    22     6     6      2     1     6     3   \n",
       "388273       5           TUR     2    34     1     1      1     1     5     3   \n",
       "388274       5           TUR     1    27     6     8      3     1     1     2   \n",
       "388275       5           TUR     2    42     1     6      2     0     5     2   \n",
       "\n",
       "        X047_WVS      Y010      Y020  \n",
       "388271         2  0.115889  0.542778  \n",
       "388272         2  0.581667  0.323519  \n",
       "388273         1  0.151667  0.395000  \n",
       "388274         4  0.595833  0.372685  \n",
       "388275         4  0.650833  0.489352  "
      ]
     },
     "execution_count": 1,
     "metadata": {},
     "output_type": "execute_result"
    }
   ],
   "source": [
    "import pandas as pd\n",
    "\n",
    "selected_columns = ['S002VS','COUNTRY_ALPHA','Y020', 'Y010', 'X003', 'X001','X025','X025R','X047_WVS','X007','X026','X028','X045']\n",
    "data = pd.read_csv(\"/Users/zeynepzulfikar/Downloads/WVS_TimeSeries_4_0.csv\", sep=',',usecols=selected_columns)\n",
    "\n",
    "turkey_df = data[data['COUNTRY_ALPHA'] == 'TUR']\n",
    "\n",
    "turkey_df.head()"
   ]
  },
  {
   "cell_type": "code",
   "execution_count": 2,
   "id": "145acbf2-3f93-4a3f-a545-0aa614fffbdf",
   "metadata": {
    "tags": []
   },
   "outputs": [
    {
     "name": "stdout",
     "output_type": "stream",
     "text": [
      "S002VS             0\n",
      "COUNTRY_ALPHA      0\n",
      "X001               0\n",
      "X003               0\n",
      "X007               0\n",
      "X025               0\n",
      "X025R              0\n",
      "X026               0\n",
      "X028               0\n",
      "X045               0\n",
      "X047_WVS           0\n",
      "Y010             570\n",
      "Y020             236\n",
      "dtype: int64\n"
     ]
    }
   ],
   "source": [
    "print(turkey_df.isnull().sum())"
   ]
  },
  {
   "cell_type": "code",
   "execution_count": 3,
   "id": "2dd19f94-9944-4dfe-ab5a-631a6beae203",
   "metadata": {
    "tags": []
   },
   "outputs": [
    {
     "name": "stdout",
     "output_type": "stream",
     "text": [
      "\n",
      "Count of missing values after dropna:\n",
      "S002VS           0\n",
      "COUNTRY_ALPHA    0\n",
      "X001             0\n",
      "X003             0\n",
      "X007             0\n",
      "X025             0\n",
      "X025R            0\n",
      "X026             0\n",
      "X028             0\n",
      "X045             0\n",
      "X047_WVS         0\n",
      "Y010             0\n",
      "Y020             0\n",
      "dtype: int64\n"
     ]
    }
   ],
   "source": [
    "turkey_df_cleaned = turkey_df.dropna(subset=['Y010', 'Y020'])\n",
    "\n",
    "print(\"\\nCount of missing values after dropna:\")\n",
    "print(turkey_df_cleaned.isnull().sum())"
   ]
  },
  {
   "cell_type": "code",
   "execution_count": 4,
   "id": "572d1385-2fe3-4127-b34d-fd3a34300211",
   "metadata": {
    "tags": []
   },
   "outputs": [
    {
     "name": "stdout",
     "output_type": "stream",
     "text": [
      "\n",
      "Count of rows with value -1 in each column:\n",
      "S002VS             0\n",
      "COUNTRY_ALPHA      0\n",
      "X001               0\n",
      "X003              17\n",
      "X007              21\n",
      "X025             243\n",
      "X025R            244\n",
      "X026              42\n",
      "X028             104\n",
      "X045             219\n",
      "X047_WVS         291\n",
      "Y010               0\n",
      "Y020               0\n",
      "dtype: int64\n",
      "\n",
      "Count of rows with value -2 in each column:\n",
      "S002VS             0\n",
      "COUNTRY_ALPHA      0\n",
      "X001               0\n",
      "X003               6\n",
      "X007              10\n",
      "X025             102\n",
      "X025R            110\n",
      "X026              45\n",
      "X028              49\n",
      "X045             126\n",
      "X047_WVS         124\n",
      "Y010               0\n",
      "Y020               0\n",
      "dtype: int64\n",
      "\n",
      "Count of rows with value -3 in each column:\n",
      "S002VS             0\n",
      "COUNTRY_ALPHA      0\n",
      "X001               0\n",
      "X003               0\n",
      "X007               0\n",
      "X025             668\n",
      "X025R              0\n",
      "X026               0\n",
      "X028               0\n",
      "X045               0\n",
      "X047_WVS           0\n",
      "Y010               0\n",
      "Y020               0\n",
      "dtype: int64\n",
      "\n",
      "Count of rows with value -4 in each column:\n",
      "S002VS              0\n",
      "COUNTRY_ALPHA       0\n",
      "X001                0\n",
      "X003                0\n",
      "X007                0\n",
      "X025             2415\n",
      "X025R               0\n",
      "X026                0\n",
      "X028                0\n",
      "X045             1030\n",
      "X047_WVS            0\n",
      "Y010                0\n",
      "Y020                0\n",
      "dtype: int64\n",
      "\n",
      "Count of rows with value -5 in each column:\n",
      "S002VS           0\n",
      "COUNTRY_ALPHA    0\n",
      "X001             0\n",
      "X003             1\n",
      "X007             0\n",
      "X025             0\n",
      "X025R            0\n",
      "X026             8\n",
      "X028             0\n",
      "X045             7\n",
      "X047_WVS         4\n",
      "Y010             0\n",
      "Y020             0\n",
      "dtype: int64\n"
     ]
    }
   ],
   "source": [
    "specific_values = [-1, -2, -3, -4, -5]\n",
    "for value in specific_values:\n",
    "    value_count_per_column = (turkey_df == value).sum()\n",
    "    print(f\"\\nCount of rows with value {value} in each column:\")\n",
    "    print(value_count_per_column)"
   ]
  },
  {
   "cell_type": "code",
   "execution_count": 5,
   "id": "af91cb28-077d-4270-9274-d39c6f86aa19",
   "metadata": {
    "tags": []
   },
   "outputs": [
    {
     "name": "stdout",
     "output_type": "stream",
     "text": [
      "\n",
      "Count of missing values after dropna:\n",
      "S002VS           0\n",
      "COUNTRY_ALPHA    0\n",
      "X001             0\n",
      "X003             0\n",
      "X007             0\n",
      "X025             0\n",
      "X025R            0\n",
      "X026             0\n",
      "X028             0\n",
      "X045             0\n",
      "X047_WVS         0\n",
      "Y010             0\n",
      "Y020             0\n",
      "dtype: int64\n"
     ]
    }
   ],
   "source": [
    "import pandas as pd\n",
    "\n",
    "data = {'S002VS': [1, 2, -4, 4, 5],\n",
    "        'COUNTRY_ALPHA': ['A', 'B', 'C', 'D', 'E'],\n",
    "        'X001': [10, 20, 30, 40, 50],\n",
    "        'X003': [5, 15, 25, 35, 45],\n",
    "        'X007': [0, 1, 2, 3, 4],\n",
    "        'X025': [100, 200, -4, -5, 500],\n",
    "        'X025R': [50, 100, 150, 200, 250],\n",
    "        'X026': [0, 1, 0, 1, 0],\n",
    "        'X028': [1, 0, 1, 0, 1],\n",
    "        'X045': [5, 10, 15, 20, 25],\n",
    "        'X047_WVS': ['Y', 'N', 'Y', 'N', 'Y'],\n",
    "        'Y010': [30, 40, 50, 60, 70],\n",
    "        'Y020': [10, 20, 30, 40, 50]}\n",
    "\n",
    "turkey_df = pd.DataFrame(data)\n",
    "\n",
    "columns_to_check = ['S002VS', 'COUNTRY_ALPHA', 'X001', 'X003', 'X007', 'X025', 'X025R', 'X026',\n",
    "                     'X028', 'X045', 'X047_WVS', 'Y010', 'Y020']\n",
    "\n",
    "turkey_df_cleaned = turkey_df[~turkey_df[columns_to_check].isin([-4, -5]).any(axis=1)]\n",
    "\n",
    "print(\"\\nCount of missing values after dropna:\")\n",
    "print(turkey_df_cleaned.isnull().sum())"
   ]
  },
  {
   "cell_type": "code",
   "execution_count": 6,
   "id": "5172f458-a845-4555-bbe0-d387b0d1ad38",
   "metadata": {
    "tags": []
   },
   "outputs": [
    {
     "name": "stdout",
     "output_type": "stream",
     "text": [
      "\n",
      "T-test results for 'Y010' between S002VS=2 and S002VS=3:\n",
      "T-statistic: -4.540460052954366\n",
      "P-value: 5.889066770966046e-06\n",
      "\n",
      "T-test results for 'Y020' between S002VS=2 and S002VS=3:\n",
      "T-statistic: 2.4158074915940686\n",
      "P-value: 0.01577422378265378\n"
     ]
    }
   ],
   "source": [
    "import pandas as pd\n",
    "from scipy.stats import ttest_ind\n",
    "\n",
    "selected_columns = ['S002VS', 'COUNTRY_ALPHA', 'Y020', 'Y010', 'X003', 'X001', 'X025', 'X025R', 'X047_WVS', 'X007', 'X026', 'X028', 'X045']\n",
    "data = pd.read_csv(\"/Users/zeynepzulfikar/Downloads/WVS_TimeSeries_4_0.csv\", sep=',', usecols=selected_columns)\n",
    "turkey_df = data[data['COUNTRY_ALPHA'] == 'TUR']\n",
    "turkey_df_cleaned = turkey_df.dropna(subset=['Y010', 'Y020'])\n",
    "\n",
    "s002vs_2 = turkey_df_cleaned[turkey_df_cleaned['S002VS'] == 2]\n",
    "s002vs_3 = turkey_df_cleaned[turkey_df_cleaned['S002VS'] == 3]\n",
    "\n",
    "t_statistic_y010_2, p_value_y010_2 = ttest_ind(s002vs_2['Y010'], s002vs_3['Y010'])\n",
    "\n",
    "t_statistic_y020_2, p_value_y020_2 = ttest_ind(s002vs_2['Y020'], s002vs_3['Y020'])\n",
    "\n",
    "print(f\"\\nT-test results for 'Y010' between S002VS=2 and S002VS=3:\")\n",
    "print(f\"T-statistic: {t_statistic_y010_2}\")\n",
    "print(f\"P-value: {p_value_y010_2}\")\n",
    "\n",
    "print(f\"\\nT-test results for 'Y020' between S002VS=2 and S002VS=3:\")\n",
    "print(f\"T-statistic: {t_statistic_y020_2}\")\n",
    "print(f\"P-value: {p_value_y020_2}\")"
   ]
  },
  {
   "cell_type": "code",
   "execution_count": 7,
   "id": "35f3f8dd-1994-4683-9948-94bcb00c3dc3",
   "metadata": {
    "tags": []
   },
   "outputs": [
    {
     "name": "stdout",
     "output_type": "stream",
     "text": [
      "\n",
      "T-test results for 'Y010' between S002VS=3 and S002VS=4:\n",
      "T-statistic: 0.7213505581078405\n",
      "P-value: 0.47073002338447134\n",
      "\n",
      "T-test results for 'Y020' between S002VS=3 and S002VS=4:\n",
      "T-statistic: 0.3504182677835865\n",
      "P-value: 0.7260406466655935\n"
     ]
    }
   ],
   "source": [
    "import pandas as pd\n",
    "from scipy.stats import ttest_ind\n",
    "\n",
    "selected_columns = ['S002VS', 'COUNTRY_ALPHA', 'Y020', 'Y010', 'X003', 'X001', 'X025', 'X025R', 'X047_WVS', 'X007', 'X026', 'X028', 'X045']\n",
    "data = pd.read_csv(\"/Users/zeynepzulfikar/Downloads/WVS_TimeSeries_4_0.csv\", sep=',', usecols=selected_columns)\n",
    "turkey_df = data[data['COUNTRY_ALPHA'] == 'TUR']\n",
    "turkey_df_cleaned = turkey_df.dropna(subset=['Y010', 'Y020'])\n",
    "\n",
    "s002vs_3 = turkey_df_cleaned[turkey_df_cleaned['S002VS'] == 3]\n",
    "s002vs_4 = turkey_df_cleaned[turkey_df_cleaned['S002VS'] == 4]\n",
    "\n",
    "t_statistic_y010_3, p_value_y010_3 = ttest_ind(s002vs_3['Y010'], s002vs_4['Y010'])\n",
    "\n",
    "t_statistic_y020_3, p_value_y020_3 = ttest_ind(s002vs_3['Y020'], s002vs_4['Y020'])\n",
    "\n",
    "print(f\"\\nT-test results for 'Y010' between S002VS=3 and S002VS=4:\")\n",
    "print(f\"T-statistic: {t_statistic_y010_3}\")\n",
    "print(f\"P-value: {p_value_y010_3}\")\n",
    "\n",
    "print(f\"\\nT-test results for 'Y020' between S002VS=3 and S002VS=4:\")\n",
    "print(f\"T-statistic: {t_statistic_y020_3}\")\n",
    "print(f\"P-value: {p_value_y020_3}\")"
   ]
  },
  {
   "cell_type": "code",
   "execution_count": 8,
   "id": "67744641-6f90-478a-9858-43d7a7e0e472",
   "metadata": {
    "tags": []
   },
   "outputs": [
    {
     "name": "stdout",
     "output_type": "stream",
     "text": [
      "\n",
      "T-test results for 'Y010' between S002VS=4 and S002VS=5:\n",
      "T-statistic: 3.409967833337221\n",
      "P-value: 0.0006553332320808052\n",
      "\n",
      "T-test results for 'Y020' between S002VS=4 and S002VS=5:\n",
      "T-statistic: 5.355582031531319\n",
      "P-value: 8.946696874671204e-08\n"
     ]
    }
   ],
   "source": [
    "import pandas as pd\n",
    "from scipy.stats import ttest_ind\n",
    "\n",
    "selected_columns = ['S002VS', 'COUNTRY_ALPHA', 'Y020', 'Y010', 'X003', 'X001', 'X025', 'X025R', 'X047_WVS', 'X007', 'X026', 'X028', 'X045']\n",
    "data = pd.read_csv(\"/Users/zeynepzulfikar/Downloads/WVS_TimeSeries_4_0.csv\", sep=',', usecols=selected_columns)\n",
    "turkey_df = data[data['COUNTRY_ALPHA'] == 'TUR']\n",
    "turkey_df_cleaned = turkey_df.dropna(subset=['Y010', 'Y020'])\n",
    "\n",
    "s002vs_4 = turkey_df_cleaned[turkey_df_cleaned['S002VS'] == 4]\n",
    "s002vs_5 = turkey_df_cleaned[turkey_df_cleaned['S002VS'] == 5]\n",
    "\n",
    "t_statistic_y010_4, p_value_y010_4 = ttest_ind(s002vs_4['Y010'], s002vs_5['Y010'])\n",
    "\n",
    "t_statistic_y020_4, p_value_y020_4 = ttest_ind(s002vs_4['Y020'], s002vs_5['Y020'])\n",
    "\n",
    "print(f\"\\nT-test results for 'Y010' between S002VS=4 and S002VS=5:\")\n",
    "print(f\"T-statistic: {t_statistic_y010_4}\")\n",
    "print(f\"P-value: {p_value_y010_4}\")\n",
    "\n",
    "print(f\"\\nT-test results for 'Y020' between S002VS=4 and S002VS=5:\")\n",
    "print(f\"T-statistic: {t_statistic_y020_4}\")\n",
    "print(f\"P-value: {p_value_y020_4}\")"
   ]
  },
  {
   "cell_type": "code",
   "execution_count": 9,
   "id": "1a245b74-c2fd-40fb-8a6a-5525b4e2c197",
   "metadata": {
    "tags": []
   },
   "outputs": [
    {
     "name": "stdout",
     "output_type": "stream",
     "text": [
      "\n",
      "T-test results for 'Y010' between S002VS=5 and S002VS=6:\n",
      "T-statistic: -0.3077454330264812\n",
      "P-value: 0.7582978596117275\n",
      "\n",
      "T-test results for 'Y020' between S002VS=5 and S002VS=6:\n",
      "T-statistic: 2.027588571315351\n",
      "P-value: 0.042692348472416916\n"
     ]
    }
   ],
   "source": [
    "import pandas as pd\n",
    "from scipy.stats import ttest_ind\n",
    "\n",
    "selected_columns = ['S002VS', 'COUNTRY_ALPHA', 'Y020', 'Y010', 'X003', 'X001', 'X025', 'X025R', 'X047_WVS', 'X007', 'X026', 'X028', 'X045']\n",
    "data = pd.read_csv(\"/Users/zeynepzulfikar/Downloads/WVS_TimeSeries_4_0.csv\", sep=',', usecols=selected_columns)\n",
    "turkey_df = data[data['COUNTRY_ALPHA'] == 'TUR']\n",
    "turkey_df_cleaned = turkey_df.dropna(subset=['Y010', 'Y020'])\n",
    "\n",
    "s002vs_5 = turkey_df_cleaned[turkey_df_cleaned['S002VS'] == 5]\n",
    "s002vs_6 = turkey_df_cleaned[turkey_df_cleaned['S002VS'] == 6]\n",
    "\n",
    "t_statistic_y010_5, p_value_y010_5 = ttest_ind(s002vs_5['Y010'], s002vs_6['Y010'])\n",
    "\n",
    "t_statistic_y020_5, p_value_y020_5 = ttest_ind(s002vs_5['Y020'], s002vs_6['Y020'])\n",
    "\n",
    "print(f\"\\nT-test results for 'Y010' between S002VS=5 and S002VS=6:\")\n",
    "print(f\"T-statistic: {t_statistic_y010_5}\")\n",
    "print(f\"P-value: {p_value_y010_5}\")\n",
    "\n",
    "print(f\"\\nT-test results for 'Y020' between S002VS=5 and S002VS=6:\")\n",
    "print(f\"T-statistic: {t_statistic_y020_5}\")\n",
    "print(f\"P-value: {p_value_y020_5}\")"
   ]
  },
  {
   "cell_type": "code",
   "execution_count": 10,
   "id": "0a053bfb-b7fe-40cb-9870-de661b6d4187",
   "metadata": {
    "tags": []
   },
   "outputs": [
    {
     "name": "stdout",
     "output_type": "stream",
     "text": [
      "\n",
      "T-test results for 'Y010' between S002VS=6 and S002VS=7:\n",
      "T-statistic: -4.975172473957375\n",
      "P-value: 6.795208384126547e-07\n",
      "\n",
      "T-test results for 'Y020' between S002VS=6 and S002VS=7:\n",
      "T-statistic: -5.254524296959381\n",
      "P-value: 1.5620789127720299e-07\n"
     ]
    }
   ],
   "source": [
    "import pandas as pd\n",
    "from scipy.stats import ttest_ind\n",
    "\n",
    "selected_columns = ['S002VS', 'COUNTRY_ALPHA', 'Y020', 'Y010', 'X003', 'X001', 'X025', 'X025R', 'X047_WVS', 'X007', 'X026', 'X028', 'X045']\n",
    "data = pd.read_csv(\"/Users/zeynepzulfikar/Downloads/WVS_TimeSeries_4_0.csv\", sep=',', usecols=selected_columns)\n",
    "turkey_df = data[data['COUNTRY_ALPHA'] == 'TUR']\n",
    "turkey_df_cleaned = turkey_df.dropna(subset=['Y010', 'Y020'])\n",
    "\n",
    "s002vs_6 = turkey_df_cleaned[turkey_df_cleaned['S002VS'] == 6]\n",
    "s002vs_7 = turkey_df_cleaned[turkey_df_cleaned['S002VS'] == 7]\n",
    "\n",
    "t_statistic_y010_6, p_value_y010_6 = ttest_ind(s002vs_6['Y010'], s002vs_7['Y010'])\n",
    "\n",
    "t_statistic_y020_6, p_value_y020_6 = ttest_ind(s002vs_6['Y020'], s002vs_7['Y020'])\n",
    "\n",
    "print(f\"\\nT-test results for 'Y010' between S002VS=6 and S002VS=7:\")\n",
    "print(f\"T-statistic: {t_statistic_y010_6}\")\n",
    "print(f\"P-value: {p_value_y010_6}\")\n",
    "\n",
    "print(f\"\\nT-test results for 'Y020' between S002VS=6 and S002VS=7:\")\n",
    "print(f\"T-statistic: {t_statistic_y020_6}\")\n",
    "print(f\"P-value: {p_value_y020_6}\")"
   ]
  },
  {
   "cell_type": "code",
   "execution_count": 11,
   "id": "8e7fc485-43b3-4d05-b27a-28f52c13d40a",
   "metadata": {
    "tags": []
   },
   "outputs": [
    {
     "name": "stdout",
     "output_type": "stream",
     "text": [
      "\n",
      "T-test results for 'Y010' and 'Y020' for age group 18-29:\n",
      "T-statistic (Y010): -1.8861107804085548, P-value (Y010): 0.05959756866285718\n",
      "T-statistic (Y020): 0.7199486707775417, P-value (Y020): 0.47174106149538997\n"
     ]
    }
   ],
   "source": [
    "import pandas as pd\n",
    "from scipy.stats import ttest_ind\n",
    "\n",
    "selected_columns = ['S002VS', 'COUNTRY_ALPHA', 'Y020', 'Y010', 'X003', 'X001', 'X025', 'X025R', 'X047_WVS', 'X007', 'X026', 'X028', 'X045']\n",
    "data = pd.read_csv(\"/Users/zeynepzulfikar/Downloads/WVS_TimeSeries_4_0.csv\", sep=',', usecols=selected_columns)\n",
    "turkey_df = data[data['COUNTRY_ALPHA'] == 'TUR']\n",
    "turkey_df_cleaned = turkey_df.dropna(subset=['Y010', 'Y020'])\n",
    "\n",
    "age_18_29 = turkey_df_cleaned[(turkey_df_cleaned['X003'] >= 18) & (turkey_df_cleaned['X003'] <= 29)]\n",
    "\n",
    "s002vs_2_age_18_29 = age_18_29[age_18_29['S002VS'] == 2]\n",
    "s002vs_3_age_18_29 = age_18_29[age_18_29['S002VS'] == 3]\n",
    "\n",
    "t_statistic_y010_18_29, p_value_y010_18_29 = ttest_ind(s002vs_2_age_18_29['Y010'], s002vs_3_age_18_29['Y010'])\n",
    "t_statistic_y020_18_29, p_value_y020_18_29 = ttest_ind(s002vs_2_age_18_29['Y020'], s002vs_3_age_18_29['Y020'])\n",
    "\n",
    "print(f\"\\nT-test results for 'Y010' and 'Y020' for age group 18-29:\")\n",
    "print(f\"T-statistic (Y010): {t_statistic_y010_18_29}, P-value (Y010): {p_value_y010_18_29}\")\n",
    "print(f\"T-statistic (Y020): {t_statistic_y020_18_29}, P-value (Y020): {p_value_y020_18_29}\")"
   ]
  },
  {
   "cell_type": "code",
   "execution_count": 12,
   "id": "9a73b850-8860-4ab3-92c3-4c4cda663b38",
   "metadata": {
    "tags": []
   },
   "outputs": [
    {
     "name": "stdout",
     "output_type": "stream",
     "text": [
      "\n",
      "T-test results for 'Y010' and 'Y020' for age group 18-29:\n",
      "T-statistic (Y010): 0.9465477457480873, P-value (Y010): 0.3440010881620862\n",
      "T-statistic (Y020): 1.8133233385922878, P-value (Y020): 0.06995468545916227\n"
     ]
    }
   ],
   "source": [
    "import pandas as pd\n",
    "from scipy.stats import ttest_ind\n",
    "\n",
    "selected_columns = ['S002VS', 'COUNTRY_ALPHA', 'Y020', 'Y010', 'X003', 'X001', 'X025', 'X025R', 'X047_WVS', 'X007', 'X026', 'X028', 'X045']\n",
    "data = pd.read_csv(\"/Users/zeynepzulfikar/Downloads/WVS_TimeSeries_4_0.csv\", sep=',', usecols=selected_columns)\n",
    "turkey_df = data[data['COUNTRY_ALPHA'] == 'TUR']\n",
    "turkey_df_cleaned = turkey_df.dropna(subset=['Y010', 'Y020'])\n",
    "\n",
    "age_18_29 = turkey_df_cleaned[(turkey_df_cleaned['X003'] >= 18) & (turkey_df_cleaned['X003'] <= 29)]\n",
    "\n",
    "s002vs_2_age_18_29_3 = age_18_29[age_18_29['S002VS'] == 3]\n",
    "s002vs_3_age_18_29_4 = age_18_29[age_18_29['S002VS'] == 4]\n",
    "\n",
    "t_statistic_y010_18_29_3, p_value_y010_18_29_3 = ttest_ind(s002vs_2_age_18_29_3['Y010'], s002vs_3_age_18_29_4['Y010'])\n",
    "t_statistic_y020_18_29_3, p_value_y020_18_29_3 = ttest_ind(s002vs_2_age_18_29_3['Y020'], s002vs_3_age_18_29_4['Y020'])\n",
    "\n",
    "print(f\"\\nT-test results for 'Y010' and 'Y020' for age group 18-29:\")\n",
    "print(f\"T-statistic (Y010): {t_statistic_y010_18_29_3}, P-value (Y010): {p_value_y010_18_29_3}\")\n",
    "print(f\"T-statistic (Y020): {t_statistic_y020_18_29_3}, P-value (Y020): {p_value_y020_18_29_3}\")"
   ]
  },
  {
   "cell_type": "code",
   "execution_count": 13,
   "id": "44451979-b370-440b-8749-fe8becde77e2",
   "metadata": {
    "tags": []
   },
   "outputs": [
    {
     "name": "stdout",
     "output_type": "stream",
     "text": [
      "\n",
      "T-test results for 'Y010' and 'Y020' for age group 18-29:\n",
      "T-statistic (Y010): 1.92672830191307, P-value (Y010): 0.054175811132714864\n",
      "T-statistic (Y020): 3.361207372908844, P-value (Y020): 0.0007927835061910068\n"
     ]
    }
   ],
   "source": [
    "import pandas as pd\n",
    "from scipy.stats import ttest_ind\n",
    "\n",
    "selected_columns = ['S002VS', 'COUNTRY_ALPHA', 'Y020', 'Y010', 'X003', 'X001', 'X025', 'X025R', 'X047_WVS', 'X007', 'X026', 'X028', 'X045']\n",
    "data = pd.read_csv(\"/Users/zeynepzulfikar/Downloads/WVS_TimeSeries_4_0.csv\", sep=',', usecols=selected_columns)\n",
    "turkey_df = data[data['COUNTRY_ALPHA'] == 'TUR']\n",
    "turkey_df_cleaned = turkey_df.dropna(subset=['Y010', 'Y020'])\n",
    "\n",
    "age_18_29 = turkey_df_cleaned[(turkey_df_cleaned['X003'] >= 18) & (turkey_df_cleaned['X003'] <= 29)]\n",
    "\n",
    "s002vs_2_age_18_29_4 = age_18_29[age_18_29['S002VS'] == 4]\n",
    "s002vs_3_age_18_29_5 = age_18_29[age_18_29['S002VS'] == 5]\n",
    "\n",
    "t_statistic_y010_18_29_4, p_value_y010_18_29_4 = ttest_ind(s002vs_2_age_18_29_4['Y010'], s002vs_3_age_18_29_5['Y010'])\n",
    "t_statistic_y020_18_29_4, p_value_y020_18_29_4 = ttest_ind(s002vs_2_age_18_29_4['Y020'], s002vs_3_age_18_29_5['Y020'])\n",
    "\n",
    "print(f\"\\nT-test results for 'Y010' and 'Y020' for age group 18-29:\")\n",
    "print(f\"T-statistic (Y010): {t_statistic_y010_18_29_4}, P-value (Y010): {p_value_y010_18_29_4}\")\n",
    "print(f\"T-statistic (Y020): {t_statistic_y020_18_29_4}, P-value (Y020): {p_value_y020_18_29_4}\")"
   ]
  },
  {
   "cell_type": "code",
   "execution_count": 14,
   "id": "17d82020-3555-4577-a9c0-beb76aaccaf4",
   "metadata": {
    "tags": []
   },
   "outputs": [
    {
     "name": "stdout",
     "output_type": "stream",
     "text": [
      "\n",
      "T-test results for 'Y010' and 'Y020' for age group 18-29:\n",
      "T-statistic (Y010): -0.6422231759121926, P-value (Y010): 0.5208686096855888\n",
      "T-statistic (Y020): 1.3969339492655424, P-value (Y020): 0.16272887188483917\n"
     ]
    }
   ],
   "source": [
    "import pandas as pd\n",
    "from scipy.stats import ttest_ind\n",
    "\n",
    "selected_columns = ['S002VS', 'COUNTRY_ALPHA', 'Y020', 'Y010', 'X003', 'X001', 'X025', 'X025R', 'X047_WVS', 'X007', 'X026', 'X028', 'X045']\n",
    "data = pd.read_csv(\"/Users/zeynepzulfikar/Downloads/WVS_TimeSeries_4_0.csv\", sep=',', usecols=selected_columns)\n",
    "turkey_df = data[data['COUNTRY_ALPHA'] == 'TUR']\n",
    "turkey_df_cleaned = turkey_df.dropna(subset=['Y010', 'Y020'])\n",
    "\n",
    "age_18_29 = turkey_df_cleaned[(turkey_df_cleaned['X003'] >= 18) & (turkey_df_cleaned['X003'] <= 29)]\n",
    "\n",
    "s002vs_2_age_18_29_5 = age_18_29[age_18_29['S002VS'] == 5]\n",
    "s002vs_3_age_18_29_6 = age_18_29[age_18_29['S002VS'] == 6]\n",
    "\n",
    "t_statistic_y010_18_29_5, p_value_y010_18_29_5 = ttest_ind(s002vs_2_age_18_29_5['Y010'], s002vs_3_age_18_29_6['Y010'])\n",
    "t_statistic_y020_18_29_5, p_value_y020_18_29_5 = ttest_ind(s002vs_2_age_18_29_5['Y020'], s002vs_3_age_18_29_6['Y020'])\n",
    "\n",
    "print(f\"\\nT-test results for 'Y010' and 'Y020' for age group 18-29:\")\n",
    "print(f\"T-statistic (Y010): {t_statistic_y010_18_29_5}, P-value (Y010): {p_value_y010_18_29_5}\")\n",
    "print(f\"T-statistic (Y020): {t_statistic_y020_18_29_5}, P-value (Y020): {p_value_y020_18_29_5}\")"
   ]
  },
  {
   "cell_type": "code",
   "execution_count": 15,
   "id": "2e0cc438-f687-4e8c-87ef-b7a59214ce17",
   "metadata": {
    "tags": []
   },
   "outputs": [
    {
     "name": "stdout",
     "output_type": "stream",
     "text": [
      "\n",
      "T-test results for 'Y010' and 'Y020' for age group 18-29:\n",
      "T-statistic (Y010): -0.9626365597607757, P-value (Y010): 0.3359251801515122\n",
      "T-statistic (Y020): -1.4462291287471167, P-value (Y020): 0.14837582706860725\n"
     ]
    }
   ],
   "source": [
    "import pandas as pd\n",
    "from scipy.stats import ttest_ind\n",
    "\n",
    "selected_columns = ['S002VS', 'COUNTRY_ALPHA', 'Y020', 'Y010', 'X003', 'X001', 'X025', 'X025R', 'X047_WVS', 'X007', 'X026', 'X028', 'X045']\n",
    "data = pd.read_csv(\"/Users/zeynepzulfikar/Downloads/WVS_TimeSeries_4_0.csv\", sep=',', usecols=selected_columns)\n",
    "turkey_df = data[data['COUNTRY_ALPHA'] == 'TUR']\n",
    "turkey_df_cleaned = turkey_df.dropna(subset=['Y010', 'Y020'])\n",
    "\n",
    "age_18_29 = turkey_df_cleaned[(turkey_df_cleaned['X003'] >= 18) & (turkey_df_cleaned['X003'] <= 29)]\n",
    "\n",
    "s002vs_2_age_18_29_6 = age_18_29[age_18_29['S002VS'] == 6]\n",
    "s002vs_3_age_18_29_7 = age_18_29[age_18_29['S002VS'] == 7]\n",
    "\n",
    "t_statistic_y010_18_29_6, p_value_y010_18_29_6 = ttest_ind(s002vs_2_age_18_29_6['Y010'], s002vs_3_age_18_29_7['Y010'])\n",
    "t_statistic_y020_18_29_6, p_value_y020_18_29_6 = ttest_ind(s002vs_2_age_18_29_6['Y020'], s002vs_3_age_18_29_7['Y020'])\n",
    "\n",
    "print(f\"\\nT-test results for 'Y010' and 'Y020' for age group 18-29:\")\n",
    "print(f\"T-statistic (Y010): {t_statistic_y010_18_29_6}, P-value (Y010): {p_value_y010_18_29_6}\")\n",
    "print(f\"T-statistic (Y020): {t_statistic_y020_18_29_6}, P-value (Y020): {p_value_y020_18_29_6}\")"
   ]
  }
 ],
 "metadata": {
  "kernelspec": {
   "display_name": "Python 3 (ipykernel)",
   "language": "python",
   "name": "python3"
  },
  "language_info": {
   "codemirror_mode": {
    "name": "ipython",
    "version": 3
   },
   "file_extension": ".py",
   "mimetype": "text/x-python",
   "name": "python",
   "nbconvert_exporter": "python",
   "pygments_lexer": "ipython3",
   "version": "3.11.5"
  }
 },
 "nbformat": 4,
 "nbformat_minor": 5
}
